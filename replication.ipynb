{
 "cells": [
  {
   "cell_type": "code",
   "execution_count": 1,
   "metadata": {},
   "outputs": [],
   "source": [
    "import itertools\n",
    "import os\n",
    "import pickle\n",
    "\n",
    "import numpy as np\n",
    "import pandas as pd\n",
    "from joblib import delayed\n",
    "from joblib import Parallel\n",
    "from ruspy.model_code.cost_functions import lin_cost\n",
    "if os.environ.get(\"TRAVIS\"):\n",
    "    pass\n",
    "else:\n",
    "    from ruspy.model_code.demand_function import get_demand\n",
    "\n",
    "from python.auxiliary import get_extensive_specific_sensitivity\n",
    "from python.auxiliary import get_iskhakov_results\n",
    "from python.auxiliary import sensitivity_simulation\n",
    "from python.auxiliary import simulate_data\n",
    "from python.auxiliary import simulate_figure_3_and_4\n",
    "from python.auxiliary import transform_grid\n",
    "from python.auxiliary_figures import get_figure_2\n",
    "from python.auxiliary_figures import get_figure_3_and_4\n",
    "from python.auxiliary_figures import get_mse_figure\n",
    "from python.auxiliary_figures import get_sensitivity_density_both\n",
    "from python.auxiliary_figures import get_sensitivity_figure\n",
    "from python.auxiliary_tables import get_table_1\n",
    "from python.auxiliary_tables import get_table_2"
   ]
  },
  {
   "cell_type": "markdown",
   "metadata": {},
   "source": [
    "Set the run_simulation below to True if you want to run the simulations instead of relying on the provided results. If you set multiple_cores to True then my major simulation study will be run with the joblib package on multiple cores depending on the amount of cores avaliable. "
   ]
  },
  {
   "cell_type": "code",
   "execution_count": 2,
   "metadata": {},
   "outputs": [],
   "source": [
    "run_simulation = False\n",
    "multiple_cores = False"
   ]
  },
  {
   "cell_type": "markdown",
   "metadata": {},
   "source": [
    "In case you want to use joblib, you have to run \"pip install -e .\" when being in the root directory of this repo. This is necessary as I import the loop function for joblib and it does not find it if the repo is not in the environment. For the robustness checks at the very end, I only give the option to use joblib. So, if you want to run those checks (which were not directly part of the thesis results) you would need to pip install the repo in editable mode for sure. "
   ]
  },
  {
   "cell_type": "markdown",
   "metadata": {},
   "source": [
    "# Replication\n",
    "---"
   ]
  },
  {
   "cell_type": "markdown",
   "metadata": {},
   "source": [
    "This notebook serves to replicate the figures and tables that can be found in my thesis. On top of that, I include some code that I relied on when doing some checks that I refer to in my thesis. Here and there it is necessary to adapt the code in the background as some of the features needed are not publicly available in ruspy yet. I will point you to the necessary changes whenever applicable. The simulations in my thesis took quite long so in some parts I provide the option to either rerun the simulations or just load the results from running them. "
   ]
  },
  {
   "cell_type": "markdown",
   "metadata": {},
   "source": [
    "### Table 1"
   ]
  },
  {
   "cell_type": "code",
   "execution_count": 3,
   "metadata": {},
   "outputs": [],
   "source": [
    "# set up for table 1\n",
    "discount_factor = [0.975, 0.985, 0.995, 0.999, 0.9995, 0.9999]\n",
    "approach = [\"NFXP\", \"MPEC\"]\n",
    "starting_cost_params = np.vstack((np.arange(4, 9), np.arange(1, 6)))\n",
    "starting_expected_value_fun = np.zeros(175)\n",
    "number_runs = 250\n",
    "number_buses = 50\n",
    "number_periods = 120\n",
    "number_states = 175\n",
    "number_cost_params = 2"
   ]
  },
  {
   "cell_type": "markdown",
   "metadata": {},
   "source": [
    "For the creation of the table it is needed to run the simulation as in Iskhakov et al. (2016) with the ruspy package. This took one night on my machine. In the following you can either run the simulation yourself or simply load the results. "
   ]
  },
  {
   "cell_type": "markdown",
   "metadata": {},
   "source": [
    "<div class=\"alert alert-block alert-info\">\n",
    "<b>Note:</b> Running the following code has optional parts.</div>"
   ]
  },
  {
   "cell_type": "code",
   "execution_count": 4,
   "metadata": {},
   "outputs": [],
   "source": [
    "# get results for table 1\n",
    "if os.environ.get(\"TRAVIS\") or run_simulation is False:\n",
    "    # load the results of the previous box\n",
    "    results = pd.read_pickle(\"data/get_iskhakov_results\")\n",
    "else:\n",
    "    results = get_iskhakov_results(\n",
    "        discount_factor,\n",
    "        approach,\n",
    "        starting_cost_params,\n",
    "        starting_expected_value_fun,\n",
    "        number_runs,\n",
    "        number_buses,\n",
    "        number_periods,\n",
    "        number_states,\n",
    "        number_cost_params,\n",
    "    )"
   ]
  },
  {
   "cell_type": "code",
   "execution_count": 5,
   "metadata": {},
   "outputs": [
    {
     "data": {
      "text/html": [
       "<div>\n",
       "<style scoped>\n",
       "    .dataframe tbody tr th:only-of-type {\n",
       "        vertical-align: middle;\n",
       "    }\n",
       "\n",
       "    .dataframe tbody tr th {\n",
       "        vertical-align: top;\n",
       "    }\n",
       "\n",
       "    .dataframe thead th {\n",
       "        text-align: right;\n",
       "    }\n",
       "</style>\n",
       "<table border=\"1\" class=\"dataframe\">\n",
       "  <thead>\n",
       "    <tr style=\"text-align: right;\">\n",
       "      <th></th>\n",
       "      <th></th>\n",
       "      <th>CPU Time</th>\n",
       "      <th>Converged</th>\n",
       "      <th># of Major Iter.</th>\n",
       "      <th># of Func. Eval.</th>\n",
       "      <th># of Bellm. Iter.</th>\n",
       "      <th># of N-K Iter.</th>\n",
       "    </tr>\n",
       "    <tr>\n",
       "      <th>Discount Factor</th>\n",
       "      <th>Approach</th>\n",
       "      <th></th>\n",
       "      <th></th>\n",
       "      <th></th>\n",
       "      <th></th>\n",
       "      <th></th>\n",
       "      <th></th>\n",
       "    </tr>\n",
       "  </thead>\n",
       "  <tbody>\n",
       "    <tr>\n",
       "      <th rowspan=\"2\" valign=\"top\">0.9750</th>\n",
       "      <th>MPEC</th>\n",
       "      <td>1.150670</td>\n",
       "      <td>1250</td>\n",
       "      <td>19.556000</td>\n",
       "      <td>25.864000</td>\n",
       "      <td>NaN</td>\n",
       "      <td>NaN</td>\n",
       "    </tr>\n",
       "    <tr>\n",
       "      <th>NFXP</th>\n",
       "      <td>1.285970</td>\n",
       "      <td>1250</td>\n",
       "      <td>11.755200</td>\n",
       "      <td>14.121600</td>\n",
       "      <td>301.7328</td>\n",
       "      <td>104.3992</td>\n",
       "    </tr>\n",
       "    <tr>\n",
       "      <th rowspan=\"2\" valign=\"top\">0.9850</th>\n",
       "      <th>MPEC</th>\n",
       "      <td>1.186541</td>\n",
       "      <td>1250</td>\n",
       "      <td>19.880000</td>\n",
       "      <td>28.391200</td>\n",
       "      <td>NaN</td>\n",
       "      <td>NaN</td>\n",
       "    </tr>\n",
       "    <tr>\n",
       "      <th>NFXP</th>\n",
       "      <td>1.305547</td>\n",
       "      <td>1250</td>\n",
       "      <td>11.356000</td>\n",
       "      <td>13.580800</td>\n",
       "      <td>291.1872</td>\n",
       "      <td>105.6200</td>\n",
       "    </tr>\n",
       "    <tr>\n",
       "      <th rowspan=\"2\" valign=\"top\">0.9950</th>\n",
       "      <th>MPEC</th>\n",
       "      <td>1.352074</td>\n",
       "      <td>1250</td>\n",
       "      <td>22.165600</td>\n",
       "      <td>35.076000</td>\n",
       "      <td>NaN</td>\n",
       "      <td>NaN</td>\n",
       "    </tr>\n",
       "    <tr>\n",
       "      <th>NFXP</th>\n",
       "      <td>1.185113</td>\n",
       "      <td>1250</td>\n",
       "      <td>10.606400</td>\n",
       "      <td>12.665600</td>\n",
       "      <td>272.9320</td>\n",
       "      <td>97.7272</td>\n",
       "    </tr>\n",
       "    <tr>\n",
       "      <th rowspan=\"2\" valign=\"top\">0.9990</th>\n",
       "      <th>MPEC</th>\n",
       "      <td>1.612590</td>\n",
       "      <td>1249</td>\n",
       "      <td>25.275420</td>\n",
       "      <td>41.539632</td>\n",
       "      <td>NaN</td>\n",
       "      <td>NaN</td>\n",
       "    </tr>\n",
       "    <tr>\n",
       "      <th>NFXP</th>\n",
       "      <td>1.556095</td>\n",
       "      <td>1250</td>\n",
       "      <td>10.936000</td>\n",
       "      <td>12.924800</td>\n",
       "      <td>278.0248</td>\n",
       "      <td>138.3936</td>\n",
       "    </tr>\n",
       "    <tr>\n",
       "      <th rowspan=\"2\" valign=\"top\">0.9995</th>\n",
       "      <th>MPEC</th>\n",
       "      <td>1.754072</td>\n",
       "      <td>1248</td>\n",
       "      <td>26.112981</td>\n",
       "      <td>43.597756</td>\n",
       "      <td>NaN</td>\n",
       "      <td>NaN</td>\n",
       "    </tr>\n",
       "    <tr>\n",
       "      <th>NFXP</th>\n",
       "      <td>2.626209</td>\n",
       "      <td>1250</td>\n",
       "      <td>10.921600</td>\n",
       "      <td>12.903200</td>\n",
       "      <td>277.5848</td>\n",
       "      <td>250.7456</td>\n",
       "    </tr>\n",
       "    <tr>\n",
       "      <th rowspan=\"2\" valign=\"top\">0.9999</th>\n",
       "      <th>MPEC</th>\n",
       "      <td>1.861206</td>\n",
       "      <td>1250</td>\n",
       "      <td>28.148800</td>\n",
       "      <td>49.267200</td>\n",
       "      <td>NaN</td>\n",
       "      <td>NaN</td>\n",
       "    </tr>\n",
       "    <tr>\n",
       "      <th>NFXP</th>\n",
       "      <td>2.778112</td>\n",
       "      <td>1250</td>\n",
       "      <td>10.861600</td>\n",
       "      <td>12.857600</td>\n",
       "      <td>276.6200</td>\n",
       "      <td>270.0008</td>\n",
       "    </tr>\n",
       "  </tbody>\n",
       "</table>\n",
       "</div>"
      ],
      "text/plain": [
       "                          CPU Time  Converged  # of Major Iter.  \\\n",
       "Discount Factor Approach                                          \n",
       "0.9750          MPEC      1.150670       1250         19.556000   \n",
       "                NFXP      1.285970       1250         11.755200   \n",
       "0.9850          MPEC      1.186541       1250         19.880000   \n",
       "                NFXP      1.305547       1250         11.356000   \n",
       "0.9950          MPEC      1.352074       1250         22.165600   \n",
       "                NFXP      1.185113       1250         10.606400   \n",
       "0.9990          MPEC      1.612590       1249         25.275420   \n",
       "                NFXP      1.556095       1250         10.936000   \n",
       "0.9995          MPEC      1.754072       1248         26.112981   \n",
       "                NFXP      2.626209       1250         10.921600   \n",
       "0.9999          MPEC      1.861206       1250         28.148800   \n",
       "                NFXP      2.778112       1250         10.861600   \n",
       "\n",
       "                          # of Func. Eval.  # of Bellm. Iter.  # of N-K Iter.  \n",
       "Discount Factor Approach                                                       \n",
       "0.9750          MPEC             25.864000                NaN             NaN  \n",
       "                NFXP             14.121600           301.7328        104.3992  \n",
       "0.9850          MPEC             28.391200                NaN             NaN  \n",
       "                NFXP             13.580800           291.1872        105.6200  \n",
       "0.9950          MPEC             35.076000                NaN             NaN  \n",
       "                NFXP             12.665600           272.9320         97.7272  \n",
       "0.9990          MPEC             41.539632                NaN             NaN  \n",
       "                NFXP             12.924800           278.0248        138.3936  \n",
       "0.9995          MPEC             43.597756                NaN             NaN  \n",
       "                NFXP             12.903200           277.5848        250.7456  \n",
       "0.9999          MPEC             49.267200                NaN             NaN  \n",
       "                NFXP             12.857600           276.6200        270.0008  "
      ]
     },
     "execution_count": 5,
     "metadata": {},
     "output_type": "execute_result"
    }
   ],
   "source": [
    "# create table 1\n",
    "table_1 = get_table_1(results, number_runs, starting_cost_params)\n",
    "table_1"
   ]
  },
  {
   "cell_type": "markdown",
   "metadata": {},
   "source": [
    "### Table 2"
   ]
  },
  {
   "cell_type": "code",
   "execution_count": 6,
   "metadata": {},
   "outputs": [
    {
     "data": {
      "text/html": [
       "<div>\n",
       "<style scoped>\n",
       "    .dataframe tbody tr th:only-of-type {\n",
       "        vertical-align: middle;\n",
       "    }\n",
       "\n",
       "    .dataframe tbody tr th {\n",
       "        vertical-align: top;\n",
       "    }\n",
       "\n",
       "    .dataframe thead th {\n",
       "        text-align: right;\n",
       "    }\n",
       "</style>\n",
       "<table border=\"1\" class=\"dataframe\">\n",
       "  <thead>\n",
       "    <tr style=\"text-align: right;\">\n",
       "      <th></th>\n",
       "      <th></th>\n",
       "      <th></th>\n",
       "      <th>RC</th>\n",
       "      <th>theta_11</th>\n",
       "    </tr>\n",
       "    <tr>\n",
       "      <th>Discount Factor</th>\n",
       "      <th>Approach</th>\n",
       "      <th>Statistic</th>\n",
       "      <th></th>\n",
       "      <th></th>\n",
       "    </tr>\n",
       "  </thead>\n",
       "  <tbody>\n",
       "    <tr>\n",
       "      <th rowspan=\"4\" valign=\"top\">0.9750</th>\n",
       "      <th rowspan=\"2\" valign=\"top\">NFXP</th>\n",
       "      <th>Mean</th>\n",
       "      <td>11.9079</td>\n",
       "      <td>2.50679</td>\n",
       "    </tr>\n",
       "    <tr>\n",
       "      <th>Standard Deviation</th>\n",
       "      <td>1.5173</td>\n",
       "      <td>0.468413</td>\n",
       "    </tr>\n",
       "    <tr>\n",
       "      <th rowspan=\"2\" valign=\"top\">MPEC</th>\n",
       "      <th>Mean</th>\n",
       "      <td>11.9079</td>\n",
       "      <td>2.50679</td>\n",
       "    </tr>\n",
       "    <tr>\n",
       "      <th>Standard Deviation</th>\n",
       "      <td>1.5173</td>\n",
       "      <td>0.468413</td>\n",
       "    </tr>\n",
       "    <tr>\n",
       "      <th rowspan=\"4\" valign=\"top\">0.9850</th>\n",
       "      <th rowspan=\"2\" valign=\"top\">NFXP</th>\n",
       "      <th>Mean</th>\n",
       "      <td>11.9865</td>\n",
       "      <td>2.53371</td>\n",
       "    </tr>\n",
       "    <tr>\n",
       "      <th>Standard Deviation</th>\n",
       "      <td>1.45744</td>\n",
       "      <td>0.452172</td>\n",
       "    </tr>\n",
       "    <tr>\n",
       "      <th rowspan=\"2\" valign=\"top\">MPEC</th>\n",
       "      <th>Mean</th>\n",
       "      <td>11.9865</td>\n",
       "      <td>2.53371</td>\n",
       "    </tr>\n",
       "    <tr>\n",
       "      <th>Standard Deviation</th>\n",
       "      <td>1.45744</td>\n",
       "      <td>0.452172</td>\n",
       "    </tr>\n",
       "    <tr>\n",
       "      <th rowspan=\"4\" valign=\"top\">0.9950</th>\n",
       "      <th rowspan=\"2\" valign=\"top\">NFXP</th>\n",
       "      <th>Mean</th>\n",
       "      <td>11.8907</td>\n",
       "      <td>2.50845</td>\n",
       "    </tr>\n",
       "    <tr>\n",
       "      <th>Standard Deviation</th>\n",
       "      <td>1.38393</td>\n",
       "      <td>0.439881</td>\n",
       "    </tr>\n",
       "    <tr>\n",
       "      <th rowspan=\"2\" valign=\"top\">MPEC</th>\n",
       "      <th>Mean</th>\n",
       "      <td>11.8907</td>\n",
       "      <td>2.50845</td>\n",
       "    </tr>\n",
       "    <tr>\n",
       "      <th>Standard Deviation</th>\n",
       "      <td>1.38393</td>\n",
       "      <td>0.43988</td>\n",
       "    </tr>\n",
       "    <tr>\n",
       "      <th rowspan=\"4\" valign=\"top\">0.9990</th>\n",
       "      <th rowspan=\"2\" valign=\"top\">NFXP</th>\n",
       "      <th>Mean</th>\n",
       "      <td>11.8743</td>\n",
       "      <td>2.51282</td>\n",
       "    </tr>\n",
       "    <tr>\n",
       "      <th>Standard Deviation</th>\n",
       "      <td>1.3466</td>\n",
       "      <td>0.443834</td>\n",
       "    </tr>\n",
       "    <tr>\n",
       "      <th rowspan=\"2\" valign=\"top\">MPEC</th>\n",
       "      <th>Mean</th>\n",
       "      <td>11.8737</td>\n",
       "      <td>2.51261</td>\n",
       "    </tr>\n",
       "    <tr>\n",
       "      <th>Standard Deviation</th>\n",
       "      <td>1.34701</td>\n",
       "      <td>0.44396</td>\n",
       "    </tr>\n",
       "    <tr>\n",
       "      <th rowspan=\"4\" valign=\"top\">0.9995</th>\n",
       "      <th rowspan=\"2\" valign=\"top\">NFXP</th>\n",
       "      <th>Mean</th>\n",
       "      <td>11.8474</td>\n",
       "      <td>2.50821</td>\n",
       "    </tr>\n",
       "    <tr>\n",
       "      <th>Standard Deviation</th>\n",
       "      <td>1.34297</td>\n",
       "      <td>0.44513</td>\n",
       "    </tr>\n",
       "    <tr>\n",
       "      <th rowspan=\"2\" valign=\"top\">MPEC</th>\n",
       "      <th>Mean</th>\n",
       "      <td>11.8494</td>\n",
       "      <td>2.50882</td>\n",
       "    </tr>\n",
       "    <tr>\n",
       "      <th>Standard Deviation</th>\n",
       "      <td>1.34285</td>\n",
       "      <td>0.445112</td>\n",
       "    </tr>\n",
       "    <tr>\n",
       "      <th rowspan=\"4\" valign=\"top\">0.9999</th>\n",
       "      <th rowspan=\"2\" valign=\"top\">NFXP</th>\n",
       "      <th>Mean</th>\n",
       "      <td>11.8148</td>\n",
       "      <td>2.49853</td>\n",
       "    </tr>\n",
       "    <tr>\n",
       "      <th>Standard Deviation</th>\n",
       "      <td>1.31945</td>\n",
       "      <td>0.431024</td>\n",
       "    </tr>\n",
       "    <tr>\n",
       "      <th rowspan=\"2\" valign=\"top\">MPEC</th>\n",
       "      <th>Mean</th>\n",
       "      <td>11.8147</td>\n",
       "      <td>2.49848</td>\n",
       "    </tr>\n",
       "    <tr>\n",
       "      <th>Standard Deviation</th>\n",
       "      <td>1.31932</td>\n",
       "      <td>0.430985</td>\n",
       "    </tr>\n",
       "  </tbody>\n",
       "</table>\n",
       "</div>"
      ],
      "text/plain": [
       "                                                  RC  theta_11\n",
       "Discount Factor Approach Statistic                            \n",
       "0.9750          NFXP     Mean                11.9079   2.50679\n",
       "                         Standard Deviation   1.5173  0.468413\n",
       "                MPEC     Mean                11.9079   2.50679\n",
       "                         Standard Deviation   1.5173  0.468413\n",
       "0.9850          NFXP     Mean                11.9865   2.53371\n",
       "                         Standard Deviation  1.45744  0.452172\n",
       "                MPEC     Mean                11.9865   2.53371\n",
       "                         Standard Deviation  1.45744  0.452172\n",
       "0.9950          NFXP     Mean                11.8907   2.50845\n",
       "                         Standard Deviation  1.38393  0.439881\n",
       "                MPEC     Mean                11.8907   2.50845\n",
       "                         Standard Deviation  1.38393   0.43988\n",
       "0.9990          NFXP     Mean                11.8743   2.51282\n",
       "                         Standard Deviation   1.3466  0.443834\n",
       "                MPEC     Mean                11.8737   2.51261\n",
       "                         Standard Deviation  1.34701   0.44396\n",
       "0.9995          NFXP     Mean                11.8474   2.50821\n",
       "                         Standard Deviation  1.34297   0.44513\n",
       "                MPEC     Mean                11.8494   2.50882\n",
       "                         Standard Deviation  1.34285  0.445112\n",
       "0.9999          NFXP     Mean                11.8148   2.49853\n",
       "                         Standard Deviation  1.31945  0.431024\n",
       "                MPEC     Mean                11.8147   2.49848\n",
       "                         Standard Deviation  1.31932  0.430985"
      ]
     },
     "execution_count": 6,
     "metadata": {},
     "output_type": "execute_result"
    }
   ],
   "source": [
    "# get table 2\n",
    "my_results_table_2, iskhakov_table_2 = get_table_2(results, discount_factor, approach)\n",
    "my_results_table_2"
   ]
  },
  {
   "cell_type": "code",
   "execution_count": 7,
   "metadata": {},
   "outputs": [
    {
     "data": {
      "text/html": [
       "<div>\n",
       "<style scoped>\n",
       "    .dataframe tbody tr th:only-of-type {\n",
       "        vertical-align: middle;\n",
       "    }\n",
       "\n",
       "    .dataframe tbody tr th {\n",
       "        vertical-align: top;\n",
       "    }\n",
       "\n",
       "    .dataframe thead th {\n",
       "        text-align: right;\n",
       "    }\n",
       "</style>\n",
       "<table border=\"1\" class=\"dataframe\">\n",
       "  <thead>\n",
       "    <tr style=\"text-align: right;\">\n",
       "      <th></th>\n",
       "      <th></th>\n",
       "      <th>RC</th>\n",
       "      <th>theta_11</th>\n",
       "    </tr>\n",
       "    <tr>\n",
       "      <th>Discount Factor</th>\n",
       "      <th>Statistic</th>\n",
       "      <th></th>\n",
       "      <th></th>\n",
       "    </tr>\n",
       "  </thead>\n",
       "  <tbody>\n",
       "    <tr>\n",
       "      <th rowspan=\"2\" valign=\"top\">0.9750</th>\n",
       "      <th>Mean</th>\n",
       "      <td>11.9135</td>\n",
       "      <td>2.50835</td>\n",
       "    </tr>\n",
       "    <tr>\n",
       "      <th>Standard Deviation</th>\n",
       "      <td>1.51658</td>\n",
       "      <td>0.468155</td>\n",
       "    </tr>\n",
       "    <tr>\n",
       "      <th rowspan=\"2\" valign=\"top\">0.9850</th>\n",
       "      <th>Mean</th>\n",
       "      <td>11.9911</td>\n",
       "      <td>2.53496</td>\n",
       "    </tr>\n",
       "    <tr>\n",
       "      <th>Standard Deviation</th>\n",
       "      <td>1.4572</td>\n",
       "      <td>0.452003</td>\n",
       "    </tr>\n",
       "    <tr>\n",
       "      <th rowspan=\"2\" valign=\"top\">0.9950</th>\n",
       "      <th>Mean</th>\n",
       "      <td>11.1907</td>\n",
       "      <td>2.90188</td>\n",
       "    </tr>\n",
       "    <tr>\n",
       "      <th>Standard Deviation</th>\n",
       "      <td>1.18759</td>\n",
       "      <td>0.473003</td>\n",
       "    </tr>\n",
       "    <tr>\n",
       "      <th rowspan=\"2\" valign=\"top\">0.9990</th>\n",
       "      <th>Mean</th>\n",
       "      <td>11.8758</td>\n",
       "      <td>2.51329</td>\n",
       "    </tr>\n",
       "    <tr>\n",
       "      <th>Standard Deviation</th>\n",
       "      <td>1.34603</td>\n",
       "      <td>0.44361</td>\n",
       "    </tr>\n",
       "    <tr>\n",
       "      <th rowspan=\"2\" valign=\"top\">0.9995</th>\n",
       "      <th>Mean</th>\n",
       "      <td>11.8491</td>\n",
       "      <td>2.50872</td>\n",
       "    </tr>\n",
       "    <tr>\n",
       "      <th>Standard Deviation</th>\n",
       "      <td>1.34246</td>\n",
       "      <td>0.444898</td>\n",
       "    </tr>\n",
       "    <tr>\n",
       "      <th rowspan=\"2\" valign=\"top\">0.9999</th>\n",
       "      <th>Mean</th>\n",
       "      <td>11.8167</td>\n",
       "      <td>2.49911</td>\n",
       "    </tr>\n",
       "    <tr>\n",
       "      <th>Standard Deviation</th>\n",
       "      <td>1.31881</td>\n",
       "      <td>0.430809</td>\n",
       "    </tr>\n",
       "  </tbody>\n",
       "</table>\n",
       "</div>"
      ],
      "text/plain": [
       "                                         RC  theta_11\n",
       "Discount Factor Statistic                            \n",
       "0.9750          Mean                11.9135   2.50835\n",
       "                Standard Deviation  1.51658  0.468155\n",
       "0.9850          Mean                11.9911   2.53496\n",
       "                Standard Deviation   1.4572  0.452003\n",
       "0.9950          Mean                11.1907   2.90188\n",
       "                Standard Deviation  1.18759  0.473003\n",
       "0.9990          Mean                11.8758   2.51329\n",
       "                Standard Deviation  1.34603   0.44361\n",
       "0.9995          Mean                11.8491   2.50872\n",
       "                Standard Deviation  1.34246  0.444898\n",
       "0.9999          Mean                11.8167   2.49911\n",
       "                Standard Deviation  1.31881  0.430809"
      ]
     },
     "execution_count": 7,
     "metadata": {},
     "output_type": "execute_result"
    }
   ],
   "source": [
    "iskhakov_table_2"
   ]
  },
  {
   "cell_type": "markdown",
   "metadata": {},
   "source": [
    "### Figure 2"
   ]
  },
  {
   "cell_type": "code",
   "execution_count": 8,
   "metadata": {},
   "outputs": [
    {
     "data": {
      "image/png": "[encoded data removed]",
      "text/plain": [
       "<Figure size 432x432 with 3 Axes>"
      ]
     },
     "metadata": {
      "needs_background": "light"
     },
     "output_type": "display_data"
    }
   ],
   "source": [
    "# get figure 2\n",
    "beta = 0.975\n",
    "get_figure_2(results, beta)"
   ]
  },
  {
   "cell_type": "markdown",
   "metadata": {},
   "source": [
    "### Figure 3 and 4"
   ]
  },
  {
   "cell_type": "markdown",
   "metadata": {},
   "source": [
    "For the following part one has to calculate the demand functions across the Monte Carlo runs from before. This took one hour on my laptop. You can either run the calculation or load the results in the box below."
   ]
  },
  {
   "cell_type": "markdown",
   "metadata": {},
   "source": [
    "<div class=\"alert alert-block alert-info\">\n",
    "<b>Note:</b> Running the following code has optional parts.</div>"
   ]
  },
  {
   "cell_type": "code",
   "execution_count": 9,
   "metadata": {},
   "outputs": [
    {
     "data": {
      "image/png": "[encoded data removed]",
      "text/plain": [
       "<Figure size 432x288 with 1 Axes>"
      ]
     },
     "metadata": {
      "needs_background": "light"
     },
     "output_type": "display_data"
    },
    {
     "data": {
      "image/png": "[encoded data removed]",
      "text/plain": [
       "<Figure size 432x288 with 1 Axes>"
      ]
     },
     "metadata": {
      "needs_background": "light"
     },
     "output_type": "display_data"
    }
   ],
   "source": [
    "# simulate the demand function over the Monte Carlo runs \n",
    "# and get correlation of the estimated parameters as well as Figure 3 and 4 \n",
    "if os.environ.get(\"TRAVIS\") or run_simulation is False:\n",
    "    # load the previously simulated results\n",
    "    names = [\"demand\", \"rc_range\", \"true_demand\", \"correlation\"]\n",
    "    temp = {}\n",
    "    for name in names:\n",
    "        temp[name] = pd.read_pickle(f\"data/{name}.pickle\")\n",
    "    get_figure_3_and_4(temp[\"demand\"], temp[\"rc_range\"], temp[\"true_demand\"])\n",
    "else:\n",
    "    demand, rc_range, true_demand, correlation = simulate_figure_3_and_4(\n",
    "        results, beta, number_states, number_buses\n",
    "    )\n",
    "    get_figure_3_and_4(demand, rc_range, true_demand)"
   ]
  },
  {
   "cell_type": "markdown",
   "metadata": {},
   "source": [
    "### Table 3"
   ]
  },
  {
   "cell_type": "code",
   "execution_count": 10,
   "metadata": {},
   "outputs": [
    {
     "data": {
      "text/html": [
       "<div>\n",
       "<style scoped>\n",
       "    .dataframe tbody tr th:only-of-type {\n",
       "        vertical-align: middle;\n",
       "    }\n",
       "\n",
       "    .dataframe tbody tr th {\n",
       "        vertical-align: top;\n",
       "    }\n",
       "\n",
       "    .dataframe thead th {\n",
       "        text-align: right;\n",
       "    }\n",
       "</style>\n",
       "<table border=\"1\" class=\"dataframe\">\n",
       "  <thead>\n",
       "    <tr style=\"text-align: right;\">\n",
       "      <th></th>\n",
       "      <th>RC</th>\n",
       "      <th>theta_11</th>\n",
       "      <th>theta_30</th>\n",
       "      <th>theta_31</th>\n",
       "      <th>theta_32</th>\n",
       "      <th>theta_33</th>\n",
       "    </tr>\n",
       "  </thead>\n",
       "  <tbody>\n",
       "    <tr>\n",
       "      <th>RC</th>\n",
       "      <td>1.000000</td>\n",
       "      <td>0.971539</td>\n",
       "      <td>-0.041474</td>\n",
       "      <td>-0.011070</td>\n",
       "      <td>0.001105</td>\n",
       "      <td>0.153098</td>\n",
       "    </tr>\n",
       "    <tr>\n",
       "      <th>theta_11</th>\n",
       "      <td>0.971539</td>\n",
       "      <td>1.000000</td>\n",
       "      <td>-0.022371</td>\n",
       "      <td>-0.025008</td>\n",
       "      <td>0.005899</td>\n",
       "      <td>0.144094</td>\n",
       "    </tr>\n",
       "    <tr>\n",
       "      <th>theta_30</th>\n",
       "      <td>-0.041474</td>\n",
       "      <td>-0.022371</td>\n",
       "      <td>1.000000</td>\n",
       "      <td>-0.256231</td>\n",
       "      <td>-0.309146</td>\n",
       "      <td>-0.070090</td>\n",
       "    </tr>\n",
       "    <tr>\n",
       "      <th>theta_31</th>\n",
       "      <td>-0.011070</td>\n",
       "      <td>-0.025008</td>\n",
       "      <td>-0.256231</td>\n",
       "      <td>1.000000</td>\n",
       "      <td>-0.815378</td>\n",
       "      <td>-0.062086</td>\n",
       "    </tr>\n",
       "    <tr>\n",
       "      <th>theta_32</th>\n",
       "      <td>0.001105</td>\n",
       "      <td>0.005899</td>\n",
       "      <td>-0.309146</td>\n",
       "      <td>-0.815378</td>\n",
       "      <td>1.000000</td>\n",
       "      <td>-0.117790</td>\n",
       "    </tr>\n",
       "    <tr>\n",
       "      <th>theta_33</th>\n",
       "      <td>0.153098</td>\n",
       "      <td>0.144094</td>\n",
       "      <td>-0.070090</td>\n",
       "      <td>-0.062086</td>\n",
       "      <td>-0.117790</td>\n",
       "      <td>1.000000</td>\n",
       "    </tr>\n",
       "  </tbody>\n",
       "</table>\n",
       "</div>"
      ],
      "text/plain": [
       "                RC  theta_11  theta_30  theta_31  theta_32  theta_33\n",
       "RC        1.000000  0.971539 -0.041474 -0.011070  0.001105  0.153098\n",
       "theta_11  0.971539  1.000000 -0.022371 -0.025008  0.005899  0.144094\n",
       "theta_30 -0.041474 -0.022371  1.000000 -0.256231 -0.309146 -0.070090\n",
       "theta_31 -0.011070 -0.025008 -0.256231  1.000000 -0.815378 -0.062086\n",
       "theta_32  0.001105  0.005899 -0.309146 -0.815378  1.000000 -0.117790\n",
       "theta_33  0.153098  0.144094 -0.070090 -0.062086 -0.117790  1.000000"
      ]
     },
     "execution_count": 10,
     "metadata": {},
     "output_type": "execute_result"
    }
   ],
   "source": [
    "temp[\"correlation\"]"
   ]
  },
  {
   "cell_type": "markdown",
   "metadata": {},
   "source": [
    "## My own Simulation"
   ]
  },
  {
   "cell_type": "markdown",
   "metadata": {},
   "source": [
    "In the first part one has to simulate the data sets for which the parameters are calibrated. This first step is done in the box which does not take too long to execute but still you can either run it yourself or load the results. "
   ]
  },
  {
   "cell_type": "markdown",
   "metadata": {},
   "source": [
    "<div class=\"alert alert-block alert-info\">\n",
    "<b>Note:</b> Running the following code has optional parts.</div>"
   ]
  },
  {
   "cell_type": "code",
   "execution_count": 11,
   "metadata": {},
   "outputs": [],
   "source": [
    "if os.environ.get(\"TRAVIS\") or run_simulation is False:\n",
    "    # load the data sets\n",
    "    simulated_data_400 = pickle.load(open(\"data/simulated_data_400.pickle\", \"rb\"))\n",
    "    simulated_data_200 = pickle.load(open(\"data/simulated_data_200.pickle\", \"rb\"))\n",
    "    simulated_data_100 = pickle.load(open(\"data/simulated_data_100.pickle\", \"rb\"))\n",
    "else:\n",
    "    # get simulated data on which the sensitivity analysis is applied,\n",
    "    # set up for simulation of data sets\n",
    "    disc_fac = 0.975\n",
    "    num_buses = 50\n",
    "    num_periods = 120\n",
    "    num_states = 400\n",
    "    number_cost_params = 2\n",
    "    cost_params = np.array([11.7257, 2.4569])\n",
    "    trans_params = np.array(\n",
    "        [\n",
    "            0.0937 / 2,\n",
    "            0.0937 / 2,\n",
    "            0.4475 / 2,\n",
    "            0.4475 / 2,\n",
    "            0.4459 / 2,\n",
    "            0.4459 / 2,\n",
    "            0.0127 / 2,\n",
    "            0.0127 / 2,\n",
    "            0.0002 / 2,\n",
    "            0.0002 / 2,\n",
    "        ]\n",
    "    )\n",
    "    scale = 1e-3\n",
    "\n",
    "    # simulate data sets with grid size 400\n",
    "    np.random.seed(123)\n",
    "    seeds = np.random.randint(1000, 1000000, 250)\n",
    "    simulated_data_400 = []\n",
    "    for seed in seeds:\n",
    "        df = simulate_data(\n",
    "            seed,\n",
    "            disc_fac,\n",
    "            num_buses,\n",
    "            num_periods,\n",
    "            num_states,\n",
    "            cost_params,\n",
    "            trans_params,\n",
    "            lin_cost,\n",
    "            scale,\n",
    "        )\n",
    "        simulated_data_400.append(df)\n",
    "\n",
    "    # derive smaller gird size data sets from that\n",
    "    simulated_data_200 = []\n",
    "    simulated_data_100 = []\n",
    "    for data in simulated_data_400:\n",
    "        data_200 = data.copy().apply(transform_grid)\n",
    "        simulated_data_200.append(data_200)\n",
    "        simulated_data_100.append(data_200.copy().apply(transform_grid))\n",
    "\n",
    "    # transform all data sets such that usage is correct\n",
    "    for data_list in [simulated_data_100, simulated_data_200, simulated_data_400]:\n",
    "        for data in data_list:\n",
    "            data[\"usage\"][1:] = (\n",
    "                data[\"state\"][1:].astype(int).to_numpy()\n",
    "                - data[\"state\"][:-1].astype(int).to_numpy()\n",
    "            )\n",
    "            data.reset_index(inplace=True)\n",
    "            replacements = data.loc[data[\"decision\"] == 1].index + 1\n",
    "            data.loc[data.index.intersection(replacements), \"usage\"] = data.reindex(\n",
    "                replacements\n",
    "            )[\"state\"]\n",
    "            data.set_index([\"Bus_ID\", \"period\"], drop=True, inplace=True)\n",
    "            data.loc[(slice(None), 0), \"usage\"] = np.nan"
   ]
  },
  {
   "cell_type": "markdown",
   "metadata": {},
   "source": [
    "In the following we need to calibrate the parameters for many different model specifications. This simulation in the box below probably takes around three nights. Within the box you can either run the simulation with multiple cores using joblib or regularly as a for loop with a single core. Once there is a simulation in which I use MPEC and NFXP with the BHHH. Then after that there is the same simulation using just NFXP with L-BFGS-B. You can either run it yourself or load the results below. "
   ]
  },
  {
   "cell_type": "markdown",
   "metadata": {},
   "source": [
    "<div class=\"alert alert-block alert-info\">\n",
    "<b>Note:</b> Running the following code has optional parts.</div>"
   ]
  },
  {
   "cell_type": "code",
   "execution_count": 12,
   "metadata": {},
   "outputs": [],
   "source": [
    "if os.environ.get(\"TRAVIS\") or run_simulation is False:\n",
    "    # load data\n",
    "    sensitivity_results_bhhh = pd.read_pickle(\"data/sensitivity_results_full_bhhh.pickle\")\n",
    "    sensitivity_results_lbfgsb = pd.read_pickle(\n",
    "        \"data/sensitivity_results_full_lbfgsb.pickle\"\n",
    "    )\n",
    "else:\n",
    "    # run sensitivity analysis \n",
    "\n",
    "    # set up specifications for which the simulated data sets should be estimated\n",
    "    # changing specifications\n",
    "    discount_factors = [0.975, 0.985]\n",
    "    cost_functions = [\"linear\", \"quadratic\", \"cubic\"]\n",
    "    scales = [1e-3, 1e-5, 1e-8]\n",
    "    grid_sizes = [100, 200, 400]\n",
    "    gradients = [\"Yes\", \"No\"]\n",
    "    approaches = [\"NFXP\", \"MPEC\"]\n",
    "    specifications = list(\n",
    "        itertools.product(\n",
    "            discount_factors, zip(cost_functions, scales), grid_sizes, gradients, approaches\n",
    "        )\n",
    "    )\n",
    "    specifications = list(zip(specifications, np.arange(len(specifications))))\n",
    "\n",
    "    # fixed specifications\n",
    "    number_runs = 250\n",
    "\n",
    "    # EITHER\n",
    "    # run the extensive simulation with multiple cores using the BHHH for NFXP and MPEC\n",
    "    # only works if before pip install -e . when being in the thesis directory\n",
    "    if multiple_cores is True:\n",
    "        sensitivity_results_bhhh = Parallel(n_jobs=os.cpu_count(), verbose=50)(\n",
    "            delayed(sensitivity_simulation)(specification, number_runs, \"estimagic_bhhh\")\n",
    "            for specification in specifications\n",
    "        )\n",
    "    else:\n",
    "        # OR alternatively normal run without joblib\n",
    "        sensitivity_results_bhhh = []\n",
    "        for specification in specifications:\n",
    "            sensitivity_results_bhhh.append(\n",
    "                sensitivity_simulation(specification, number_runs, \"estimagic_bhhh\")\n",
    "            )\n",
    "    # translate the results in correct form\n",
    "    results_temp = sensitivity_results_bhhh[0]\n",
    "    for result in sensitivity_results_bhhh[1:]:\n",
    "        results_temp = pd.concat((results_temp, result))\n",
    "    sensitivity_results_bhhh = results_temp\n",
    "\n",
    "    # add the simulation for NFXP with the scipy L-BFGS-B\n",
    "    discount_factors = [0.975, 0.985]\n",
    "    cost_functions = [\"linear\", \"quadratic\", \"cubic\"]\n",
    "    scales = [1e-3, 1e-5, 1e-8]\n",
    "    grid_sizes = [100, 200, 400]\n",
    "    gradients = [\"Yes\", \"No\"]\n",
    "    approaches = [\"NFXP\"]\n",
    "    specifications = list(\n",
    "        itertools.product(\n",
    "            discount_factors, zip(cost_functions, scales), grid_sizes, gradients, approaches\n",
    "        )\n",
    "    )\n",
    "    specifications = list(zip(specifications, np.arange(len(specifications))))\n",
    "    \n",
    "    # fixed specifications\n",
    "    number_runs = 250\n",
    "\n",
    "    # only works if before pip install -e . when being in the thesis directory\n",
    "    if multiple_cores is True:\n",
    "        sensitivity_results_lbfgsb = Parallel(n_jobs=os.cpu_count(), verbose=50)(\n",
    "            delayed(sensitivity_simulation)(specification, number_runs, \"scipy_L-BFGS-B\")\n",
    "            for specification in specifications\n",
    "        )\n",
    "    else:\n",
    "        # or alternatively normal run without joblib\n",
    "        sensitivity_results_lbfgsb = []\n",
    "        for specification in specifications:\n",
    "            sensitivity_results_lbfgsb.append(\n",
    "                sensitivity_simulation(specification, number_runs, \"scipy_L-BFGS-B\")\n",
    "            )\n",
    "            \n",
    "    # translate the results in correct form\n",
    "    results_temp = pd.concat((sensitivity_results_lbfgsb[0], \n",
    "                              sensitivity_results_bhhh.loc(axis=0)[\n",
    "                                  :, :, :, :, \"MPEC\", :].iloc[0:number_runs]))\n",
    "    for number, result in enumerate(sensitivity_results_lbfgsb[1:]):\n",
    "        both = pd.concat((result, sensitivity_results_bhhh.loc(axis=0)[\n",
    "                                  :, :, :, :, \"MPEC\", :].iloc[\n",
    "                                      (number+1)*number_runs:(number+2)*number_runs]))\n",
    "        results_temp = pd.concat((results_temp, both))\n",
    "    sensitivity_results_lbfgs = results_temp"
   ]
  },
  {
   "cell_type": "markdown",
   "metadata": {},
   "source": [
    "### Table 4"
   ]
  },
  {
   "cell_type": "code",
   "execution_count": 13,
   "metadata": {},
   "outputs": [
    {
     "data": {
      "text/plain": [
       "[(0.975, 'linear', 100, 'Yes'),\n",
       " (0.975, 'linear', 100, 'No'),\n",
       " (0.975, 'linear', 200, 'Yes'),\n",
       " (0.975, 'linear', 200, 'No'),\n",
       " (0.975, 'linear', 400, 'Yes'),\n",
       " (0.975, 'linear', 400, 'No'),\n",
       " (0.975, 'quadratic', 100, 'Yes'),\n",
       " (0.975, 'quadratic', 100, 'No'),\n",
       " (0.975, 'quadratic', 200, 'Yes'),\n",
       " (0.975, 'quadratic', 200, 'No'),\n",
       " (0.975, 'quadratic', 400, 'Yes'),\n",
       " (0.975, 'quadratic', 400, 'No'),\n",
       " (0.975, 'cubic', 100, 'Yes'),\n",
       " (0.975, 'cubic', 100, 'No'),\n",
       " (0.975, 'cubic', 200, 'Yes'),\n",
       " (0.975, 'cubic', 200, 'No'),\n",
       " (0.975, 'cubic', 400, 'Yes'),\n",
       " (0.975, 'cubic', 400, 'No'),\n",
       " (0.985, 'linear', 100, 'Yes'),\n",
       " (0.985, 'linear', 100, 'No'),\n",
       " (0.985, 'linear', 200, 'Yes'),\n",
       " (0.985, 'linear', 200, 'No'),\n",
       " (0.985, 'linear', 400, 'Yes'),\n",
       " (0.985, 'linear', 400, 'No'),\n",
       " (0.985, 'quadratic', 100, 'Yes'),\n",
       " (0.985, 'quadratic', 100, 'No'),\n",
       " (0.985, 'quadratic', 200, 'Yes'),\n",
       " (0.985, 'quadratic', 200, 'No'),\n",
       " (0.985, 'quadratic', 400, 'Yes'),\n",
       " (0.985, 'quadratic', 400, 'No'),\n",
       " (0.985, 'cubic', 100, 'Yes'),\n",
       " (0.985, 'cubic', 100, 'No'),\n",
       " (0.985, 'cubic', 200, 'Yes'),\n",
       " (0.985, 'cubic', 200, 'No'),\n",
       " (0.985, 'cubic', 400, 'Yes'),\n",
       " (0.985, 'cubic', 400, 'No')]"
      ]
     },
     "execution_count": 13,
     "metadata": {},
     "output_type": "execute_result"
    }
   ],
   "source": [
    "# set up specifications for which the simulated data sets should be estimated\n",
    "# changing specifications\n",
    "discount_factors = [0.975, 0.985]\n",
    "cost_functions = [\"linear\", \"quadratic\", \"cubic\"]\n",
    "grid_sizes = [100, 200, 400]\n",
    "gradients = [\"Yes\", \"No\"]\n",
    "specifications = list(\n",
    "    itertools.product(\n",
    "        discount_factors, cost_functions, grid_sizes, gradients,\n",
    "    )\n",
    ")\n",
    "specifications"
   ]
  },
  {
   "cell_type": "markdown",
   "metadata": {},
   "source": [
    "In the following figures I rely on knowledge about the true counterfactual demand level for my simulation study. This demand level is obtained below"
   ]
  },
  {
   "cell_type": "code",
   "execution_count": 14,
   "metadata": {},
   "outputs": [
    {
     "data": {
      "text/plain": [
       "11.095184215630066"
      ]
     },
     "execution_count": 14,
     "metadata": {},
     "output_type": "execute_result"
    }
   ],
   "source": [
    "if os.environ.get(\"TRAVIS\"):\n",
    "    pass\n",
    "else:\n",
    "    # Get the true demand (the true QoI) of the underlying data generating process\n",
    "    cost_params = np.array([11.7257, 2.4569])\n",
    "    trans_params = np.array(\n",
    "        [\n",
    "            0.0937 / 2,\n",
    "            0.0937 / 2,\n",
    "            0.4475 / 2,\n",
    "            0.4475 / 2,\n",
    "            0.4459 / 2,\n",
    "            0.4459 / 2,\n",
    "            0.0127 / 2,\n",
    "            0.0127 / 2,\n",
    "            0.0002 / 2,\n",
    "            0.0002 / 2,\n",
    "        ]\n",
    "    )\n",
    "    demand_params = np.concatenate((trans_params, cost_params))\n",
    "    init_dict = {\n",
    "        \"model_specifications\": {\n",
    "            \"discount_factor\": 0.975,\n",
    "            \"number_states\": 400,\n",
    "            \"maint_cost_func\": \"linear\",\n",
    "            \"cost_scale\": 1e-3,\n",
    "        },\n",
    "    }\n",
    "    demand_dict = {\n",
    "        \"RC_lower_bound\": 11,\n",
    "        \"RC_upper_bound\": 11,\n",
    "        \"demand_evaluations\": 1,\n",
    "        \"tolerance\": 1e-10,\n",
    "        \"num_periods\": 12,\n",
    "        \"num_buses\": 50,\n",
    "    }\n",
    "    true_demand = (\n",
    "        get_demand(init_dict, demand_dict, demand_params)[\"demand\"]\n",
    "        .astype(float)\n",
    "        .to_numpy()[0]\n",
    "    )\n",
    "    true_demand"
   ]
  },
  {
   "cell_type": "markdown",
   "metadata": {},
   "source": [
    "### Figure 5"
   ]
  },
  {
   "cell_type": "code",
   "execution_count": 15,
   "metadata": {},
   "outputs": [
    {
     "name": "stderr",
     "output_type": "stream",
     "text": [
      "No handles with labels found to put in legend.\n"
     ]
    },
    {
     "data": {
      "image/png": "[encoded data removed]",
      "text/plain": [
       "<Figure size 432x288 with 2 Axes>"
      ]
     },
     "metadata": {
      "needs_background": "light"
     },
     "output_type": "display_data"
    }
   ],
   "source": [
    "# only cost\n",
    "specifications = [\n",
    "    [0.975, \"linear\", 400, \"Yes\"],\n",
    "    [0.975, \"quadratic\", 400, \"Yes\"],\n",
    "    [0.975, \"cubic\", 400, \"Yes\"],\n",
    "]\n",
    "labels = [\"correct\", \"quadratic\", \"cubic\"]\n",
    "figure_name = \"5\"\n",
    "sensitivity_data = get_extensive_specific_sensitivity(\n",
    "    sensitivity_results_lbfgsb, specifications\n",
    ")[1]\n",
    "get_sensitivity_figure(\n",
    "    sensitivity_data, specifications, labels, figure_name, legend=True\n",
    ")"
   ]
  },
  {
   "cell_type": "markdown",
   "metadata": {},
   "source": [
    "### Figure 6"
   ]
  },
  {
   "cell_type": "code",
   "execution_count": 16,
   "metadata": {},
   "outputs": [
    {
     "data": {
      "image/png": "[encoded data removed]",
      "text/plain": [
       "<Figure size 432x288 with 2 Axes>"
      ]
     },
     "metadata": {
      "needs_background": "light"
     },
     "output_type": "display_data"
    }
   ],
   "source": [
    "# cost and discount factor\n",
    "specifications = [\n",
    "    [0.975, \"linear\", 400, \"Yes\"],\n",
    "    [0.985, \"linear\", 400, \"Yes\"],\n",
    "    [0.985, \"quadratic\", 400, \"Yes\"],\n",
    "    [0.985, \"cubic\", 400, \"Yes\"],\n",
    "]\n",
    "labels = [\"correct\", r\"$\\beta$\", r\"$\\beta$\" \" &\\n quadratic\", r\"$\\beta$\" \" &\\n cubic\"]\n",
    "figure_name = \"6\"\n",
    "sensitivity_data = get_extensive_specific_sensitivity(\n",
    "    sensitivity_results_lbfgsb, specifications\n",
    ")[1]\n",
    "get_sensitivity_figure(sensitivity_data, specifications, labels, figure_name)"
   ]
  },
  {
   "cell_type": "markdown",
   "metadata": {},
   "source": [
    "### Figure 7"
   ]
  },
  {
   "cell_type": "code",
   "execution_count": 17,
   "metadata": {},
   "outputs": [
    {
     "data": {
      "image/png": "[encoded data removed]",
      "text/plain": [
       "<Figure size 432x288 with 2 Axes>"
      ]
     },
     "metadata": {
      "needs_background": "light"
     },
     "output_type": "display_data"
    }
   ],
   "source": [
    "# just grid size\n",
    "specifications = [\n",
    "    [0.975, \"linear\", 400, \"Yes\"],\n",
    "    [0.975, \"linear\", 200, \"Yes\"],\n",
    "    [0.975, \"linear\", 100, \"Yes\"],\n",
    "]\n",
    "labels = [\"correct\", \"grid\\n200\", \"grid\\n100\"]\n",
    "figure_name = \"7\"\n",
    "sensitivity_data = get_extensive_specific_sensitivity(\n",
    "    sensitivity_results_lbfgsb, specifications\n",
    ")[1]\n",
    "get_sensitivity_figure(sensitivity_data, specifications, labels, figure_name)"
   ]
  },
  {
   "cell_type": "markdown",
   "metadata": {},
   "source": [
    "### Figure 8"
   ]
  },
  {
   "cell_type": "code",
   "execution_count": 18,
   "metadata": {},
   "outputs": [
    {
     "data": {
      "image/png": "[encoded data removed]",
      "text/plain": [
       "<Figure size 432x288 with 2 Axes>"
      ]
     },
     "metadata": {
      "needs_background": "light"
     },
     "output_type": "display_data"
    }
   ],
   "source": [
    "# gradient and grid size\n",
    "specifications = [\n",
    "    [0.975, \"linear\", 400, \"Yes\"],\n",
    "    [0.975, \"linear\", 400, \"No\"],\n",
    "    [0.975, \"linear\", 200, \"No\"],\n",
    "    [0.975, \"linear\", 100, \"No\"],\n",
    "]\n",
    "labels = [\"correct\", \"num.\\ngradient\", \"num.&\\ngrid 200\", \"num.&\\ngrid 100\"]\n",
    "figure_name = \"8\"\n",
    "sensitivity_data = get_extensive_specific_sensitivity(\n",
    "    sensitivity_results_lbfgsb, specifications\n",
    ")[1]\n",
    "get_sensitivity_figure(sensitivity_data, specifications, labels, figure_name)"
   ]
  },
  {
   "cell_type": "markdown",
   "metadata": {},
   "source": [
    "### Table 4"
   ]
  },
  {
   "cell_type": "code",
   "execution_count": 19,
   "metadata": {},
   "outputs": [
    {
     "data": {
      "text/html": [
       "<div>\n",
       "<style scoped>\n",
       "    .dataframe tbody tr th:only-of-type {\n",
       "        vertical-align: middle;\n",
       "    }\n",
       "\n",
       "    .dataframe tbody tr th {\n",
       "        vertical-align: top;\n",
       "    }\n",
       "\n",
       "    .dataframe thead th {\n",
       "        text-align: right;\n",
       "    }\n",
       "</style>\n",
       "<table border=\"1\" class=\"dataframe\">\n",
       "  <thead>\n",
       "    <tr style=\"text-align: right;\">\n",
       "      <th></th>\n",
       "      <th></th>\n",
       "      <th></th>\n",
       "      <th></th>\n",
       "      <th></th>\n",
       "      <th></th>\n",
       "      <th>CPU Time</th>\n",
       "      <th>Converged</th>\n",
       "      <th># of Major Iter.</th>\n",
       "      <th># of Func. Eval.</th>\n",
       "      <th># of Func. Eval. (Total)</th>\n",
       "      <th># of Bellm. Iter.</th>\n",
       "      <th># of N-K Iter.</th>\n",
       "    </tr>\n",
       "    <tr>\n",
       "      <th>Discount Factor</th>\n",
       "      <th>Cost Function</th>\n",
       "      <th>Grid Size</th>\n",
       "      <th>Analytical Gradient</th>\n",
       "      <th>Approach</th>\n",
       "      <th>Statistic</th>\n",
       "      <th></th>\n",
       "      <th></th>\n",
       "      <th></th>\n",
       "      <th></th>\n",
       "      <th></th>\n",
       "      <th></th>\n",
       "      <th></th>\n",
       "    </tr>\n",
       "  </thead>\n",
       "  <tbody>\n",
       "    <tr>\n",
       "      <th rowspan=\"8\" valign=\"top\">0.975</th>\n",
       "      <th rowspan=\"8\" valign=\"top\">linear</th>\n",
       "      <th rowspan=\"4\" valign=\"top\">400</th>\n",
       "      <th rowspan=\"2\" valign=\"top\">Yes</th>\n",
       "      <th>NFXP</th>\n",
       "      <th>Mean</th>\n",
       "      <td>7.381086</td>\n",
       "      <td>1.0</td>\n",
       "      <td>11.728</td>\n",
       "      <td>13.252</td>\n",
       "      <td>NaN</td>\n",
       "      <td>285.04</td>\n",
       "      <td>76.980</td>\n",
       "    </tr>\n",
       "    <tr>\n",
       "      <th>MPEC</th>\n",
       "      <th>Mean</th>\n",
       "      <td>23.129314</td>\n",
       "      <td>1.0</td>\n",
       "      <td>18.684</td>\n",
       "      <td>23.752</td>\n",
       "      <td>23.752</td>\n",
       "      <td>NaN</td>\n",
       "      <td>NaN</td>\n",
       "    </tr>\n",
       "    <tr>\n",
       "      <th rowspan=\"2\" valign=\"top\">No</th>\n",
       "      <th>NFXP</th>\n",
       "      <th>Mean</th>\n",
       "      <td>16.430282</td>\n",
       "      <td>1.0</td>\n",
       "      <td>11.728</td>\n",
       "      <td>13.252</td>\n",
       "      <td>NaN</td>\n",
       "      <td>1080.16</td>\n",
       "      <td>286.840</td>\n",
       "    </tr>\n",
       "    <tr>\n",
       "      <th>MPEC</th>\n",
       "      <th>Mean</th>\n",
       "      <td>168.394828</td>\n",
       "      <td>1.0</td>\n",
       "      <td>19.132</td>\n",
       "      <td>24.632</td>\n",
       "      <td>8540.828</td>\n",
       "      <td>NaN</td>\n",
       "      <td>NaN</td>\n",
       "    </tr>\n",
       "    <tr>\n",
       "      <th rowspan=\"2\" valign=\"top\">200</th>\n",
       "      <th rowspan=\"2\" valign=\"top\">No</th>\n",
       "      <th>NFXP</th>\n",
       "      <th>Mean</th>\n",
       "      <td>3.719552</td>\n",
       "      <td>1.0</td>\n",
       "      <td>14.016</td>\n",
       "      <td>15.016</td>\n",
       "      <td>NaN</td>\n",
       "      <td>1221.28</td>\n",
       "      <td>322.912</td>\n",
       "    </tr>\n",
       "    <tr>\n",
       "      <th>MPEC</th>\n",
       "      <th>Mean</th>\n",
       "      <td>26.366221</td>\n",
       "      <td>1.0</td>\n",
       "      <td>22.096</td>\n",
       "      <td>28.008</td>\n",
       "      <td>4919.496</td>\n",
       "      <td>NaN</td>\n",
       "      <td>NaN</td>\n",
       "    </tr>\n",
       "    <tr>\n",
       "      <th rowspan=\"2\" valign=\"top\">100</th>\n",
       "      <th rowspan=\"2\" valign=\"top\">No</th>\n",
       "      <th>NFXP</th>\n",
       "      <th>Mean</th>\n",
       "      <td>1.185391</td>\n",
       "      <td>1.0</td>\n",
       "      <td>12.352</td>\n",
       "      <td>13.824</td>\n",
       "      <td>NaN</td>\n",
       "      <td>1125.92</td>\n",
       "      <td>282.244</td>\n",
       "    </tr>\n",
       "    <tr>\n",
       "      <th>MPEC</th>\n",
       "      <th>Mean</th>\n",
       "      <td>4.439239</td>\n",
       "      <td>1.0</td>\n",
       "      <td>21.556</td>\n",
       "      <td>31.504</td>\n",
       "      <td>2457.772</td>\n",
       "      <td>NaN</td>\n",
       "      <td>NaN</td>\n",
       "    </tr>\n",
       "  </tbody>\n",
       "</table>\n",
       "</div>"
      ],
      "text/plain": [
       "                                                                                  CPU Time  \\\n",
       "Discount Factor Cost Function Grid Size Analytical Gradient Approach Statistic               \n",
       "0.975           linear        400       Yes                 NFXP     Mean         7.381086   \n",
       "                                                            MPEC     Mean        23.129314   \n",
       "                                        No                  NFXP     Mean        16.430282   \n",
       "                                                            MPEC     Mean       168.394828   \n",
       "                              200       No                  NFXP     Mean         3.719552   \n",
       "                                                            MPEC     Mean        26.366221   \n",
       "                              100       No                  NFXP     Mean         1.185391   \n",
       "                                                            MPEC     Mean         4.439239   \n",
       "\n",
       "                                                                                Converged  \\\n",
       "Discount Factor Cost Function Grid Size Analytical Gradient Approach Statistic              \n",
       "0.975           linear        400       Yes                 NFXP     Mean             1.0   \n",
       "                                                            MPEC     Mean             1.0   \n",
       "                                        No                  NFXP     Mean             1.0   \n",
       "                                                            MPEC     Mean             1.0   \n",
       "                              200       No                  NFXP     Mean             1.0   \n",
       "                                                            MPEC     Mean             1.0   \n",
       "                              100       No                  NFXP     Mean             1.0   \n",
       "                                                            MPEC     Mean             1.0   \n",
       "\n",
       "                                                                                # of Major Iter.  \\\n",
       "Discount Factor Cost Function Grid Size Analytical Gradient Approach Statistic                     \n",
       "0.975           linear        400       Yes                 NFXP     Mean                 11.728   \n",
       "                                                            MPEC     Mean                 18.684   \n",
       "                                        No                  NFXP     Mean                 11.728   \n",
       "                                                            MPEC     Mean                 19.132   \n",
       "                              200       No                  NFXP     Mean                 14.016   \n",
       "                                                            MPEC     Mean                 22.096   \n",
       "                              100       No                  NFXP     Mean                 12.352   \n",
       "                                                            MPEC     Mean                 21.556   \n",
       "\n",
       "                                                                                # of Func. Eval.  \\\n",
       "Discount Factor Cost Function Grid Size Analytical Gradient Approach Statistic                     \n",
       "0.975           linear        400       Yes                 NFXP     Mean                 13.252   \n",
       "                                                            MPEC     Mean                 23.752   \n",
       "                                        No                  NFXP     Mean                 13.252   \n",
       "                                                            MPEC     Mean                 24.632   \n",
       "                              200       No                  NFXP     Mean                 15.016   \n",
       "                                                            MPEC     Mean                 28.008   \n",
       "                              100       No                  NFXP     Mean                 13.824   \n",
       "                                                            MPEC     Mean                 31.504   \n",
       "\n",
       "                                                                                # of Func. Eval. (Total)  \\\n",
       "Discount Factor Cost Function Grid Size Analytical Gradient Approach Statistic                             \n",
       "0.975           linear        400       Yes                 NFXP     Mean                            NaN   \n",
       "                                                            MPEC     Mean                         23.752   \n",
       "                                        No                  NFXP     Mean                            NaN   \n",
       "                                                            MPEC     Mean                       8540.828   \n",
       "                              200       No                  NFXP     Mean                            NaN   \n",
       "                                                            MPEC     Mean                       4919.496   \n",
       "                              100       No                  NFXP     Mean                            NaN   \n",
       "                                                            MPEC     Mean                       2457.772   \n",
       "\n",
       "                                                                                # of Bellm. Iter.  \\\n",
       "Discount Factor Cost Function Grid Size Analytical Gradient Approach Statistic                      \n",
       "0.975           linear        400       Yes                 NFXP     Mean                  285.04   \n",
       "                                                            MPEC     Mean                     NaN   \n",
       "                                        No                  NFXP     Mean                 1080.16   \n",
       "                                                            MPEC     Mean                     NaN   \n",
       "                              200       No                  NFXP     Mean                 1221.28   \n",
       "                                                            MPEC     Mean                     NaN   \n",
       "                              100       No                  NFXP     Mean                 1125.92   \n",
       "                                                            MPEC     Mean                     NaN   \n",
       "\n",
       "                                                                                # of N-K Iter.  \n",
       "Discount Factor Cost Function Grid Size Analytical Gradient Approach Statistic                  \n",
       "0.975           linear        400       Yes                 NFXP     Mean               76.980  \n",
       "                                                            MPEC     Mean                  NaN  \n",
       "                                        No                  NFXP     Mean              286.840  \n",
       "                                                            MPEC     Mean                  NaN  \n",
       "                              200       No                  NFXP     Mean              322.912  \n",
       "                                                            MPEC     Mean                  NaN  \n",
       "                              100       No                  NFXP     Mean              282.244  \n",
       "                                                            MPEC     Mean                  NaN  "
      ]
     },
     "execution_count": 19,
     "metadata": {},
     "output_type": "execute_result"
    }
   ],
   "source": [
    "sensitivity_data.loc[(slice(None), slice(None), slice(None), slice(None), slice(None), \"Mean\"), \n",
    "                    slice(\"CPU Time\", \"# of N-K Iter.\")]"
   ]
  },
  {
   "cell_type": "markdown",
   "metadata": {},
   "source": [
    "### Figure 9"
   ]
  },
  {
   "cell_type": "code",
   "execution_count": 20,
   "metadata": {},
   "outputs": [
    {
     "data": {
      "image/png": "[encoded data removed]",
      "text/plain": [
       "<Figure size 432x288 with 2 Axes>"
      ]
     },
     "metadata": {
      "needs_background": "light"
     },
     "output_type": "display_data"
    }
   ],
   "source": [
    "# all together\n",
    "specifications = [\n",
    "    [0.975, \"linear\", 400, \"Yes\"],\n",
    "    [0.985, \"linear\", 400, \"Yes\"],\n",
    "    [0.985, \"quadratic\", 400, \"Yes\"],\n",
    "    [0.985, \"cubic\", 400, \"Yes\"],\n",
    "    [0.985, \"cubic\", 400, \"No\"],\n",
    "    [0.985, \"cubic\", 200, \"No\"],\n",
    "    [0.985, \"cubic\", 100, \"No\"],\n",
    "]\n",
    "labels = len(specifications) * [\"\"]\n",
    "figure_name = \"9\"\n",
    "sensitivity_data = get_extensive_specific_sensitivity(\n",
    "    sensitivity_results_lbfgsb, specifications\n",
    ")[1]\n",
    "get_sensitivity_figure(sensitivity_data, specifications, labels, figure_name)"
   ]
  },
  {
   "cell_type": "markdown",
   "metadata": {},
   "source": [
    "### Figure 10"
   ]
  },
  {
   "cell_type": "code",
   "execution_count": 21,
   "metadata": {},
   "outputs": [
    {
     "data": {
      "image/png": "[encoded data removed]",
      "text/plain": [
       "<Figure size 432x288 with 1 Axes>"
      ]
     },
     "metadata": {
      "needs_background": "light"
     },
     "output_type": "display_data"
    }
   ],
   "source": [
    "# get MSE figure\n",
    "discount_factors = [0.975, 0.985]\n",
    "cost_functions = [\"linear\", \"quadratic\", \"cubic\"]\n",
    "grid_sizes = [100, 200, 400]\n",
    "gradients = [\"Yes\", \"No\"]\n",
    "specs = list(itertools.product(discount_factors, cost_functions, grid_sizes, gradients))\n",
    "specifications = []\n",
    "for spec in specs:\n",
    "    specifications.append(list(spec))\n",
    "sensitivity_data = get_extensive_specific_sensitivity(\n",
    "    sensitivity_results_lbfgsb, specifications\n",
    ")[1]\n",
    "get_mse_figure(sensitivity_data, specifications, \"figure_10\")"
   ]
  },
  {
   "cell_type": "markdown",
   "metadata": {},
   "source": [
    "### Figure 11"
   ]
  },
  {
   "cell_type": "code",
   "execution_count": 22,
   "metadata": {},
   "outputs": [
    {
     "data": {
      "image/png": "[encoded data removed]",
      "text/plain": [
       "<Figure size 432x288 with 2 Axes>"
      ]
     },
     "metadata": {
      "needs_background": "light"
     },
     "output_type": "display_data"
    }
   ],
   "source": [
    "# look at the distributions of the QoI per specification for MPEC\n",
    "get_sensitivity_density_both(\n",
    "    sensitivity_results_lbfgsb, \"MPEC\", \"figure_11\", np.arange(72), mark=[27, 45]\n",
    ")"
   ]
  },
  {
   "cell_type": "markdown",
   "metadata": {},
   "source": [
    "### Figure 12"
   ]
  },
  {
   "cell_type": "code",
   "execution_count": 23,
   "metadata": {},
   "outputs": [
    {
     "name": "stderr",
     "output_type": "stream",
     "text": [
      "No handles with labels found to put in legend.\n"
     ]
    },
    {
     "data": {
      "image/png": "[encoded data removed]",
      "text/plain": [
       "<Figure size 432x288 with 2 Axes>"
      ]
     },
     "metadata": {
      "needs_background": "light"
     },
     "output_type": "display_data"
    }
   ],
   "source": [
    "# get figure 5 using the NFXP with BHHH instead of L-BFGS-B\n",
    "specifications = [\n",
    "    [0.975, \"linear\", 400, \"Yes\"],\n",
    "    [0.975, \"quadratic\", 400, \"Yes\"],\n",
    "    [0.975, \"cubic\", 400, \"Yes\"],\n",
    "]\n",
    "labels = [\"correct\", \"quadratic\", \"cubic\"]\n",
    "figure_name = \"12\"\n",
    "sensitivity_data = get_extensive_specific_sensitivity(\n",
    "    sensitivity_results_bhhh, specifications\n",
    ")[1]\n",
    "get_sensitivity_figure(\n",
    "    sensitivity_data, specifications, labels, figure_name, legend=True\n",
    ")"
   ]
  },
  {
   "cell_type": "markdown",
   "metadata": {},
   "source": [
    "### Figure 13"
   ]
  },
  {
   "cell_type": "code",
   "execution_count": 24,
   "metadata": {},
   "outputs": [
    {
     "data": {
      "image/png": "[encoded data removed]",
      "text/plain": [
       "<Figure size 432x288 with 2 Axes>"
      ]
     },
     "metadata": {
      "needs_background": "light"
     },
     "output_type": "display_data"
    }
   ],
   "source": [
    "# look at the distributions of the QoI per specification for NFXP with L-BFGS-B\n",
    "get_sensitivity_density_both(\n",
    "    sensitivity_results_lbfgsb, \"NFXP\", \"figure_13\", np.arange(72), mark=[27, 45]\n",
    ")"
   ]
  },
  {
   "cell_type": "markdown",
   "metadata": {},
   "source": [
    "### Additional Tests"
   ]
  },
  {
   "cell_type": "markdown",
   "metadata": {},
   "source": [
    "In the next bit I test how the results of my simulation change when using different stopping tolerances for the NFXP with L-BFGS-B. For that I rerun the first 5 runs for each specification which does not take too long but a few minutes."
   ]
  },
  {
   "cell_type": "markdown",
   "metadata": {},
   "source": [
    "<div class=\"alert alert-block alert-info\">\n",
    "<b>Note:</b> Running the following code has optional parts.</div>"
   ]
  },
  {
   "cell_type": "code",
   "execution_count": 25,
   "metadata": {},
   "outputs": [],
   "source": [
    "if os.environ.get(\"TRAVIS\") or run_simulation is False:\n",
    "    pass\n",
    "else:\n",
    "    # test lbfgsb with different tolerances\n",
    "    # get tolerances\n",
    "    base=10\n",
    "    level=np.ones(10)\n",
    "    for i in np.arange(10):\n",
    "        base=base*100\n",
    "        level[i] = level[i]/base\n",
    "\n",
    "    # get setup for the simulation\n",
    "    discount_factors = [0.975, 0.985]\n",
    "    cost_functions = [\"linear\", \"quadratic\", \"cubic\"]\n",
    "    scales = [1e-3, 1e-5, 1e-8]\n",
    "    grid_sizes = [100, 200, 400]\n",
    "    gradients = [\"Yes\", \"No\"]\n",
    "    approaches = [\"NFXP\"]\n",
    "    specifications = list(\n",
    "        itertools.product(\n",
    "            discount_factors, zip(cost_functions, scales), grid_sizes, gradients, approaches\n",
    "        )\n",
    "    )\n",
    "    specifications = list(zip(specifications, np.arange(len(specifications))))\n",
    "    # fixed specifications\n",
    "    number_runs = 5\n",
    "\n",
    "    # run simulation with joblib \n",
    "    sensitivity_results={}\n",
    "    for tol in level: \n",
    "        # only works if before pip install -e . when being in the thesis directory\n",
    "        sensitivity_results[str(tol)] = Parallel(n_jobs=os.cpu_count(), verbose=50)(\n",
    "            delayed(sensitivity_simulation)(specification, number_runs, \"scipy_L-BFGS-B\",\n",
    "                                            tolerance={\"gtol\": tol})\n",
    "            for specification in specifications\n",
    "        )\n",
    "\n",
    "    # make results more readable     \n",
    "    for tol in level:\n",
    "        temp = sensitivity_results[str(tol)].copy()\n",
    "        sensitivity_results[str(tol)] = temp[0]\n",
    "        for data in temp[1:]:\n",
    "            sensitivity_results[str(tol)]=sensitivity_results[str(tol)].append(data)"
   ]
  },
  {
   "cell_type": "markdown",
   "metadata": {},
   "source": [
    "Now I do so again for the BHHH with the NFXP. "
   ]
  },
  {
   "cell_type": "code",
   "execution_count": 26,
   "metadata": {},
   "outputs": [],
   "source": [
    "if os.environ.get(\"TRAVIS\") or run_simulation is False:\n",
    "    pass\n",
    "else:\n",
    "    # test BHHH with other tolerances\n",
    "    level = [\n",
    "        (1e-03, 1e-06),\n",
    "        (1e-05, 1e-08),\n",
    "        (1e-07, 1e-10),\n",
    "        (1e-09, 1e-12),\n",
    "        (1e-11, 1e-14),\n",
    "        (1e-13, 1e-16),\n",
    "        ]\n",
    "\n",
    "    # run simulation with joblib\n",
    "    sensitivity_results={}\n",
    "    for tol in level: \n",
    "        # only works if before pip install -e . when being in the thesis directory\n",
    "        sensitivity_results[str(tol)] = Parallel(n_jobs=os.cpu_count(), verbose=50)(\n",
    "            delayed(sensitivity_simulation)(specification, number_runs, \"estimagic_bhhh\",\n",
    "                                            tolerance={\"tol\": {\"abs\": tol[0], \"rel\": tol[1]}})\n",
    "            for specification in specifications\n",
    "        )\n",
    "\n",
    "    # make results more readable\n",
    "    for tol in level:\n",
    "        temp = sensitivity_results[str(tol)].copy()\n",
    "        sensitivity_results[str(tol)] = temp[0]\n",
    "        for data in temp[1:]:\n",
    "            sensitivity_results[str(tol)]=sensitivity_results[str(tol)].append(data)"
   ]
  },
  {
   "cell_type": "markdown",
   "metadata": {},
   "source": [
    "Lastly, I test whether it makes a difference that the NFXP can use twice as many contraction and N-K steps as before. I test this for both L-BFGS-B and BHHH in their default settings below. "
   ]
  },
  {
   "cell_type": "code",
   "execution_count": 27,
   "metadata": {},
   "outputs": [],
   "source": [
    "if os.environ.get(\"TRAVIS\") or run_simulation is False:\n",
    "    pass\n",
    "else:\n",
    "    # check for number of contraction and N-K steps\n",
    "    sensitivity_results = Parallel(n_jobs=os.cpu_count(), verbose=50)(\n",
    "        delayed(sensitivity_simulation)(specification, number_runs, \"scipy_L-BFGS-B\",\n",
    "                                        max_cont=40, max_nk=40)\n",
    "        for specification in specifications\n",
    "    )\n",
    "\n",
    "    sensitivity_results = Parallel(n_jobs=os.cpu_count(), verbose=50)(\n",
    "        delayed(sensitivity_simulation)(specification, number_runs, \"estimagic_bhhh\",\n",
    "                                        max_cont=40, max_nk=40)\n",
    "        for specification in specifications\n",
    "    )"
   ]
  }
 ],
 "metadata": {
  "kernelspec": {
   "display_name": "Python 3",
   "language": "python",
   "name": "python3"
  },
  "language_info": {
   "codemirror_mode": {
    "name": "ipython",
    "version": 3
   },
   "file_extension": ".py",
   "mimetype": "text/x-python",
   "name": "python",
   "nbconvert_exporter": "python",
   "pygments_lexer": "ipython3",
   "version": "3.7.3"
  }
 },
 "nbformat": 4,
 "nbformat_minor": 4
}
